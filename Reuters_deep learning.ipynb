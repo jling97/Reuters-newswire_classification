{
 "cells": [
  {
   "cell_type": "code",
   "execution_count": 1,
   "metadata": {
    "colab": {
     "base_uri": "https://localhost:8080/",
     "height": 34
    },
    "colab_type": "code",
    "executionInfo": {
     "elapsed": 1383,
     "status": "ok",
     "timestamp": 1600493378433,
     "user": {
      "displayName": "Jia-Ling Chang",
      "photoUrl": "",
      "userId": "16568341028415145981"
     },
     "user_tz": -480
    },
    "id": "CfSoqSKihyAx",
    "outputId": "60445f3e-799b-42de-c608-88bf67b0109d"
   },
   "outputs": [
    {
     "name": "stdout",
     "output_type": "stream",
     "text": [
      "env: KERAS_BACKEND=tensorflow\n"
     ]
    }
   ],
   "source": [
    "%env KERAS_BACKEND=tensorflow"
   ]
  },
  {
   "cell_type": "code",
   "execution_count": 2,
   "metadata": {
    "colab": {},
    "colab_type": "code",
    "executionInfo": {
     "elapsed": 2044,
     "status": "ok",
     "timestamp": 1600493382214,
     "user": {
      "displayName": "Jia-Ling Chang",
      "photoUrl": "",
      "userId": "16568341028415145981"
     },
     "user_tz": -480
    },
    "id": "PaTIVxHPh4ic"
   },
   "outputs": [],
   "source": [
    "%matplotlib inline\n",
    "import numpy as np\n",
    "import matplotlib.pyplot as plt"
   ]
  },
  {
   "cell_type": "code",
   "execution_count": 13,
   "metadata": {
    "colab": {},
    "colab_type": "code",
    "executionInfo": {
     "elapsed": 1599,
     "status": "ok",
     "timestamp": 1600494419186,
     "user": {
      "displayName": "Jia-Ling Chang",
      "photoUrl": "",
      "userId": "16568341028415145981"
     },
     "user_tz": -480
    },
    "id": "xvqS8ShyiALP"
   },
   "outputs": [],
   "source": [
    "#載入路透社資料集\n",
    "from keras.datasets import reuters\n",
    "#將資料量限制在10000個最常出現的單字\n",
    "(train_data,train_labels),(test_data,test_labels)=reuters.load_data(num_words=10000)"
   ]
  },
  {
   "cell_type": "code",
   "execution_count": 14,
   "metadata": {
    "colab": {
     "base_uri": "https://localhost:8080/",
     "height": 34
    },
    "colab_type": "code",
    "executionInfo": {
     "elapsed": 1849,
     "status": "ok",
     "timestamp": 1600494422338,
     "user": {
      "displayName": "Jia-Ling Chang",
      "photoUrl": "",
      "userId": "16568341028415145981"
     },
     "user_tz": -480
    },
    "id": "gtj0MoVliU-5",
    "outputId": "bb5b0169-a629-46af-bd6b-5f209cabe4be"
   },
   "outputs": [
    {
     "data": {
      "text/plain": [
       "8982"
      ]
     },
     "execution_count": 14,
     "metadata": {
      "tags": []
     },
     "output_type": "execute_result"
    }
   ],
   "source": [
    "#檢視資料\n",
    "len(train_data)"
   ]
  },
  {
   "cell_type": "code",
   "execution_count": 15,
   "metadata": {
    "colab": {
     "base_uri": "https://localhost:8080/",
     "height": 34
    },
    "colab_type": "code",
    "executionInfo": {
     "elapsed": 1783,
     "status": "ok",
     "timestamp": 1600494425208,
     "user": {
      "displayName": "Jia-Ling Chang",
      "photoUrl": "",
      "userId": "16568341028415145981"
     },
     "user_tz": -480
    },
    "id": "LGoWEptGiZse",
    "outputId": "119f4269-cd50-445f-c14a-acd7ab7cd84d"
   },
   "outputs": [
    {
     "data": {
      "text/plain": [
       "2246"
      ]
     },
     "execution_count": 15,
     "metadata": {
      "tags": []
     },
     "output_type": "execute_result"
    }
   ],
   "source": [
    "len(test_data)"
   ]
  },
  {
   "cell_type": "code",
   "execution_count": 31,
   "metadata": {
    "colab": {},
    "colab_type": "code",
    "executionInfo": {
     "elapsed": 1118,
     "status": "ok",
     "timestamp": 1600495484228,
     "user": {
      "displayName": "Jia-Ling Chang",
      "photoUrl": "",
      "userId": "16568341028415145981"
     },
     "user_tz": -480
    },
    "id": "MMH6IuwHjMjy"
   },
   "outputs": [],
   "source": [
    "#對資料進行向量化處理\n",
    "def vectorize_sequences(sequences,dimension=10000):\n",
    "  results=np.zeros(((len(sequences)),dimension))\n",
    "  for i,sequence in enumerate(sequences):\n",
    "    results[i,sequence]=1.\n",
    "  return results\n",
    "\n",
    "x_train=vectorize_sequences(train_data)\n",
    "x_test=vectorize_sequences(test_data)"
   ]
  },
  {
   "cell_type": "code",
   "execution_count": 28,
   "metadata": {
    "colab": {},
    "colab_type": "code",
    "executionInfo": {
     "elapsed": 1494,
     "status": "ok",
     "timestamp": 1600495278559,
     "user": {
      "displayName": "Jia-Ling Chang",
      "photoUrl": "",
      "userId": "16568341028415145981"
     },
     "user_tz": -480
    },
    "id": "gx8OnnGakEa5"
   },
   "outputs": [],
   "source": [
    "#將標籤進行向量化處理\n",
    "#使用one-hot編碼\n",
    "from keras.utils.np_utils import to_categorical\n",
    "one_hot_train_labels=to_categorical(train_labels)\n",
    "one_hot_test_labels=to_categorical(test_labels)"
   ]
  },
  {
   "cell_type": "code",
   "execution_count": 70,
   "metadata": {
    "colab": {},
    "colab_type": "code",
    "executionInfo": {
     "elapsed": 1235,
     "status": "ok",
     "timestamp": 1600499327139,
     "user": {
      "displayName": "Jia-Ling Chang",
      "photoUrl": "",
      "userId": "16568341028415145981"
     },
     "user_tz": -480
    },
    "id": "q02p1-Z6lMLu"
   },
   "outputs": [],
   "source": [
    "#模型定義\n",
    "from keras import models\n",
    "from keras import layers\n",
    "model=models.Sequential()\n",
    "model.add(layers.Dense(64,activation='relu',input_shape=(10000,)))\n",
    "model.add(layers.Dense(64,activation='relu'))\n",
    "model.add(layers.Dense(46,activation='softmax'))"
   ]
  },
  {
   "cell_type": "code",
   "execution_count": 71,
   "metadata": {
    "colab": {
     "base_uri": "https://localhost:8080/",
     "height": 252
    },
    "colab_type": "code",
    "executionInfo": {
     "elapsed": 1056,
     "status": "ok",
     "timestamp": 1600499332421,
     "user": {
      "displayName": "Jia-Ling Chang",
      "photoUrl": "",
      "userId": "16568341028415145981"
     },
     "user_tz": -480
    },
    "id": "3VB4OCBTMUwW",
    "outputId": "940c3495-ade1-4f6f-8283-9abac0d59e5a"
   },
   "outputs": [
    {
     "name": "stdout",
     "output_type": "stream",
     "text": [
      "Model: \"sequential_21\"\n",
      "_________________________________________________________________\n",
      "Layer (type)                 Output Shape              Param #   \n",
      "=================================================================\n",
      "dense_63 (Dense)             (None, 64)                640064    \n",
      "_________________________________________________________________\n",
      "dense_64 (Dense)             (None, 64)                4160      \n",
      "_________________________________________________________________\n",
      "dense_65 (Dense)             (None, 46)                2990      \n",
      "=================================================================\n",
      "Total params: 647,214\n",
      "Trainable params: 647,214\n",
      "Non-trainable params: 0\n",
      "_________________________________________________________________\n"
     ]
    }
   ],
   "source": [
    "#檢視模型\n",
    "model.summary()"
   ]
  },
  {
   "cell_type": "code",
   "execution_count": 33,
   "metadata": {
    "colab": {},
    "colab_type": "code",
    "executionInfo": {
     "elapsed": 1595,
     "status": "ok",
     "timestamp": 1600496083824,
     "user": {
      "displayName": "Jia-Ling Chang",
      "photoUrl": "",
      "userId": "16568341028415145981"
     },
     "user_tz": -480
    },
    "id": "NJS1P59umFiY"
   },
   "outputs": [],
   "source": [
    "model.compile(optimizer='rmsprop',loss='categorical_crossentropy',metrics=['accuracy'])"
   ]
  },
  {
   "cell_type": "code",
   "execution_count": 34,
   "metadata": {
    "colab": {},
    "colab_type": "code",
    "executionInfo": {
     "elapsed": 1668,
     "status": "ok",
     "timestamp": 1600496098453,
     "user": {
      "displayName": "Jia-Ling Chang",
      "photoUrl": "",
      "userId": "16568341028415145981"
     },
     "user_tz": -480
    },
    "id": "Gwn1Fz6jmUHM"
   },
   "outputs": [],
   "source": [
    "#切出1000個樣本當作驗證資料集\n",
    "x_val=x_train[:1000]\n",
    "partial_x_train=x_train[1000:]\n",
    "y_val=one_hot_train_labels[:1000]\n",
    "partial_y_train=one_hot_train_labels[1000:]"
   ]
  },
  {
   "cell_type": "code",
   "execution_count": 35,
   "metadata": {
    "colab": {
     "base_uri": "https://localhost:8080/",
     "height": 689
    },
    "colab_type": "code",
    "executionInfo": {
     "elapsed": 8263,
     "status": "ok",
     "timestamp": 1600496189911,
     "user": {
      "displayName": "Jia-Ling Chang",
      "photoUrl": "",
      "userId": "16568341028415145981"
     },
     "user_tz": -480
    },
    "id": "WzXheZgQmsAZ",
    "outputId": "3790ec97-2ba4-4a65-b5bf-3afd0768a141"
   },
   "outputs": [
    {
     "name": "stdout",
     "output_type": "stream",
     "text": [
      "Epoch 1/20\n",
      "16/16 [==============================] - 0s 29ms/step - loss: 2.6963 - accuracy: 0.4529 - val_loss: 1.8023 - val_accuracy: 0.6220\n",
      "Epoch 2/20\n",
      "16/16 [==============================] - 0s 14ms/step - loss: 1.4636 - accuracy: 0.7052 - val_loss: 1.3397 - val_accuracy: 0.7090\n",
      "Epoch 3/20\n",
      "16/16 [==============================] - 0s 14ms/step - loss: 1.0798 - accuracy: 0.7747 - val_loss: 1.1590 - val_accuracy: 0.7550\n",
      "Epoch 4/20\n",
      "16/16 [==============================] - 0s 15ms/step - loss: 0.8561 - accuracy: 0.8247 - val_loss: 1.0830 - val_accuracy: 0.7650\n",
      "Epoch 5/20\n",
      "16/16 [==============================] - 0s 14ms/step - loss: 0.6923 - accuracy: 0.8562 - val_loss: 0.9923 - val_accuracy: 0.8030\n",
      "Epoch 6/20\n",
      "16/16 [==============================] - 0s 14ms/step - loss: 0.5532 - accuracy: 0.8831 - val_loss: 0.9414 - val_accuracy: 0.8100\n",
      "Epoch 7/20\n",
      "16/16 [==============================] - 0s 14ms/step - loss: 0.4478 - accuracy: 0.9060 - val_loss: 0.9702 - val_accuracy: 0.7950\n",
      "Epoch 8/20\n",
      "16/16 [==============================] - 0s 14ms/step - loss: 0.3654 - accuracy: 0.9222 - val_loss: 0.9169 - val_accuracy: 0.8120\n",
      "Epoch 9/20\n",
      "16/16 [==============================] - 0s 14ms/step - loss: 0.3038 - accuracy: 0.9386 - val_loss: 0.8802 - val_accuracy: 0.8250\n",
      "Epoch 10/20\n",
      "16/16 [==============================] - 0s 14ms/step - loss: 0.2561 - accuracy: 0.9412 - val_loss: 0.8978 - val_accuracy: 0.8260\n",
      "Epoch 11/20\n",
      "16/16 [==============================] - 0s 14ms/step - loss: 0.2228 - accuracy: 0.9468 - val_loss: 0.9173 - val_accuracy: 0.8180\n",
      "Epoch 12/20\n",
      "16/16 [==============================] - 0s 14ms/step - loss: 0.1948 - accuracy: 0.9508 - val_loss: 0.9641 - val_accuracy: 0.8040\n",
      "Epoch 13/20\n",
      "16/16 [==============================] - 0s 14ms/step - loss: 0.1776 - accuracy: 0.9514 - val_loss: 0.9126 - val_accuracy: 0.8200\n",
      "Epoch 14/20\n",
      "16/16 [==============================] - 0s 14ms/step - loss: 0.1576 - accuracy: 0.9541 - val_loss: 0.9438 - val_accuracy: 0.8190\n",
      "Epoch 15/20\n",
      "16/16 [==============================] - 0s 14ms/step - loss: 0.1488 - accuracy: 0.9563 - val_loss: 1.0831 - val_accuracy: 0.7910\n",
      "Epoch 16/20\n",
      "16/16 [==============================] - 0s 14ms/step - loss: 0.1363 - accuracy: 0.9550 - val_loss: 0.9763 - val_accuracy: 0.8080\n",
      "Epoch 17/20\n",
      "16/16 [==============================] - 0s 14ms/step - loss: 0.1292 - accuracy: 0.9574 - val_loss: 1.0116 - val_accuracy: 0.8090\n",
      "Epoch 18/20\n",
      "16/16 [==============================] - 0s 13ms/step - loss: 0.1230 - accuracy: 0.9584 - val_loss: 1.0302 - val_accuracy: 0.8130\n",
      "Epoch 19/20\n",
      "16/16 [==============================] - 0s 14ms/step - loss: 0.1244 - accuracy: 0.9563 - val_loss: 1.0703 - val_accuracy: 0.8010\n",
      "Epoch 20/20\n",
      "16/16 [==============================] - 0s 13ms/step - loss: 0.1118 - accuracy: 0.9592 - val_loss: 1.0545 - val_accuracy: 0.8060\n"
     ]
    }
   ],
   "source": [
    "#訓練模型\n",
    "history=model.fit(partial_x_train,partial_y_train,epochs=20,batch_size=512,validation_data=(x_val,y_val))"
   ]
  },
  {
   "cell_type": "code",
   "execution_count": 38,
   "metadata": {
    "colab": {
     "base_uri": "https://localhost:8080/",
     "height": 295
    },
    "colab_type": "code",
    "executionInfo": {
     "elapsed": 1774,
     "status": "ok",
     "timestamp": 1600496348188,
     "user": {
      "displayName": "Jia-Ling Chang",
      "photoUrl": "",
      "userId": "16568341028415145981"
     },
     "user_tz": -480
    },
    "id": "swuieDXGnAs3",
    "outputId": "7c9715b4-3d65-4fe4-a3a7-b3ea6e12de7c"
   },
   "outputs": [
    {
     "data": {
      "image/png": "[encoded data removed]",
      "text/plain": [
       "<Figure size 432x288 with 1 Axes>"
      ]
     },
     "metadata": {
      "needs_background": "light",
      "tags": []
     },
     "output_type": "display_data"
    }
   ],
   "source": [
    "#繪製訓練與驗證資料的損失分數\n",
    "loss=history.history['loss']\n",
    "val_loss=history.history['val_loss']\n",
    "epochs=range(1,len(loss)+1)\n",
    "plt.plot(epochs,loss,'bo',label='Training loss')\n",
    "plt.plot(epochs,val_loss,'b',label='Validation loss')\n",
    "plt.title('Training and validation loss')\n",
    "plt.xlabel('Epochs')\n",
    "plt.ylabel('Loss')\n",
    "plt.legend()\n",
    "plt.show()"
   ]
  },
  {
   "cell_type": "code",
   "execution_count": 39,
   "metadata": {
    "colab": {
     "base_uri": "https://localhost:8080/",
     "height": 295
    },
    "colab_type": "code",
    "executionInfo": {
     "elapsed": 2009,
     "status": "ok",
     "timestamp": 1600496382612,
     "user": {
      "displayName": "Jia-Ling Chang",
      "photoUrl": "",
      "userId": "16568341028415145981"
     },
     "user_tz": -480
    },
    "id": "1eIBB1V4oaxM",
    "outputId": "6fe4d548-b57c-416d-e36f-c84844375dd7"
   },
   "outputs": [
    {
     "data": {
      "image/png": "[encoded data removed]",
      "text/plain": [
       "<Figure size 432x288 with 1 Axes>"
      ]
     },
     "metadata": {
      "needs_background": "light",
      "tags": []
     },
     "output_type": "display_data"
    }
   ],
   "source": [
    "#繪製訓練與驗證資料的準確度\n",
    "plt.clf()\n",
    "acc=history.history['accuracy']\n",
    "val_acc=history.history['val_accuracy']\n",
    "plt.plot(epochs,acc,'bo',label='Training acc')\n",
    "plt.plot(epochs,val_acc,'b',label='Validation acc')\n",
    "plt.title('Training and validation accuracy')\n",
    "plt.xlabel('Epochs')\n",
    "plt.ylabel('Accuracy')\n",
    "plt.legend()\n",
    "plt.show()"
   ]
  },
  {
   "cell_type": "code",
   "execution_count": 52,
   "metadata": {
    "colab": {
     "base_uri": "https://localhost:8080/",
     "height": 336
    },
    "colab_type": "code",
    "executionInfo": {
     "elapsed": 4056,
     "status": "ok",
     "timestamp": 1600496693586,
     "user": {
      "displayName": "Jia-Ling Chang",
      "photoUrl": "",
      "userId": "16568341028415145981"
     },
     "user_tz": -480
    },
    "id": "I3GbxmP8pAYu",
    "outputId": "435af8f9-c05d-4878-f338-578eff21fbfa"
   },
   "outputs": [
    {
     "name": "stdout",
     "output_type": "stream",
     "text": [
      "Epoch 1/9\n",
      "16/16 [==============================] - 0s 22ms/step - loss: 2.6285 - accuracy: 0.5122 - val_loss: 1.7503 - val_accuracy: 0.6120\n",
      "Epoch 2/9\n",
      "16/16 [==============================] - 0s 14ms/step - loss: 1.4081 - accuracy: 0.7058 - val_loss: 1.2896 - val_accuracy: 0.7180\n",
      "Epoch 3/9\n",
      "16/16 [==============================] - 0s 14ms/step - loss: 1.0327 - accuracy: 0.7798 - val_loss: 1.1087 - val_accuracy: 0.7710\n",
      "Epoch 4/9\n",
      "16/16 [==============================] - 0s 14ms/step - loss: 0.8096 - accuracy: 0.8310 - val_loss: 1.0228 - val_accuracy: 0.7770\n",
      "Epoch 5/9\n",
      "16/16 [==============================] - 0s 14ms/step - loss: 0.6562 - accuracy: 0.8651 - val_loss: 0.9519 - val_accuracy: 0.7980\n",
      "Epoch 6/9\n",
      "16/16 [==============================] - 0s 14ms/step - loss: 0.5234 - accuracy: 0.8930 - val_loss: 0.9160 - val_accuracy: 0.8110\n",
      "Epoch 7/9\n",
      "16/16 [==============================] - 0s 14ms/step - loss: 0.4234 - accuracy: 0.9148 - val_loss: 0.8992 - val_accuracy: 0.8060\n",
      "Epoch 8/9\n",
      "16/16 [==============================] - 0s 14ms/step - loss: 0.3468 - accuracy: 0.9253 - val_loss: 0.8883 - val_accuracy: 0.8160\n",
      "Epoch 9/9\n",
      "16/16 [==============================] - 0s 14ms/step - loss: 0.2852 - accuracy: 0.9387 - val_loss: 0.9023 - val_accuracy: 0.8070\n",
      "71/71 [==============================] - 0s 3ms/step - loss: 0.9937 - accuracy: 0.7841\n"
     ]
    }
   ],
   "source": [
    "#重新訓練模型\n",
    "model=models.Sequential()\n",
    "model.add(layers.Dense(64,activation='relu',input_shape=(10000,)))\n",
    "model.add(layers.Dense(64,activation='relu'))\n",
    "model.add(layers.Dense(46,activation='softmax'))\n",
    "\n",
    "model.compile(optimizer='rmsprop',loss='categorical_crossentropy',metrics=['accuracy'])\n",
    "\n",
    "model.fit(partial_x_train,partial_y_train,epochs=9,batch_size=512,validation_data=(x_val,y_val))\n",
    "\n",
    "results=model.evaluate(x_test,one_hot_test_labels)"
   ]
  },
  {
   "cell_type": "code",
   "execution_count": 53,
   "metadata": {
    "colab": {
     "base_uri": "https://localhost:8080/",
     "height": 34
    },
    "colab_type": "code",
    "executionInfo": {
     "elapsed": 2753,
     "status": "ok",
     "timestamp": 1600496700394,
     "user": {
      "displayName": "Jia-Ling Chang",
      "photoUrl": "",
      "userId": "16568341028415145981"
     },
     "user_tz": -480
    },
    "id": "mc9keA99qBnU",
    "outputId": "49a4475d-cea8-4e34-9462-bc952b5dff43"
   },
   "outputs": [
    {
     "data": {
      "text/plain": [
       "[0.9937385320663452, 0.784060537815094]"
      ]
     },
     "execution_count": 53,
     "metadata": {
      "tags": []
     },
     "output_type": "execute_result"
    }
   ],
   "source": [
    "#顯示最終結果\n",
    "results"
   ]
  },
  {
   "cell_type": "code",
   "execution_count": null,
   "metadata": {
    "colab": {},
    "colab_type": "code",
    "id": "zY1pzG36G3Sj"
   },
   "outputs": [],
   "source": []
  }
 ],
 "metadata": {
  "accelerator": "GPU",
  "colab": {
   "authorship_tag": "ABX9TyMsMuHs4FS4KxxZ8qjGPODz",
   "collapsed_sections": [],
   "name": "Reuters_deep learning.ipynb",
   "provenance": []
  },
  "kernelspec": {
   "display_name": "Python 3",
   "language": "python",
   "name": "python3"
  },
  "language_info": {
   "codemirror_mode": {
    "name": "ipython",
    "version": 3
   },
   "file_extension": ".py",
   "mimetype": "text/x-python",
   "name": "python",
   "nbconvert_exporter": "python",
   "pygments_lexer": "ipython3",
   "version": "3.7.3"
  }
 },
 "nbformat": 4,
 "nbformat_minor": 1
}
